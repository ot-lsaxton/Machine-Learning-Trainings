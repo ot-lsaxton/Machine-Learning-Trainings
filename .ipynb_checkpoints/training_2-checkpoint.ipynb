{
 "cells": [
  {
   "cell_type": "markdown",
   "metadata": {
    "collapsed": true
   },
   "source": [
    "Welcome to the OT Univeristy Machine Learning, Training #2\n",
    "Last session we explored some of the most common tools of the trade - pandas and sklearn\n",
    "\n",
    "For this trainng, we will build on what we learned. Instead of using sklearn's decision tree classifier, we will use its multi-layer perceptron classifier. \n",
    "\n",
    "As usual we will read in data from a csv, seperate it into training and testing datasets and train our model.\n",
    "\n",
    "For this session we will also explore tuning our classifier and cross validation.\n",
    "\n",
    "Let's get started."
   ]
  },
  {
   "cell_type": "code",
   "execution_count": 3,
   "metadata": {
    "collapsed": true
   },
   "outputs": [],
   "source": [
    "import pandas as pd\n",
    "from sklearn import preprocessing"
   ]
  },
  {
   "cell_type": "markdown",
   "metadata": {},
   "source": [
    "Task 1: Read in the Mushroom csv. Our task is to classify mushrooms as posionous or not. Change the code below to do so."
   ]
  },
  {
   "cell_type": "code",
   "execution_count": 7,
   "metadata": {},
   "outputs": [
    {
     "ename": "SyntaxError",
     "evalue": "invalid syntax (<ipython-input-7-9d28b10723af>, line 4)",
     "output_type": "error",
     "traceback": [
      "\u001b[0;36m  File \u001b[0;32m\"<ipython-input-7-9d28b10723af>\"\u001b[0;36m, line \u001b[0;32m4\u001b[0m\n\u001b[0;31m    mushroom_data = mushroom_data[mushroom_data[] != '?']\u001b[0m\n\u001b[0m                                                ^\u001b[0m\n\u001b[0;31mSyntaxError\u001b[0m\u001b[0;31m:\u001b[0m invalid syntax\n"
     ]
    }
   ],
   "source": [
    "mushroom_data = pd.read_csv('mushrooms.csv')\n",
    "print(mushroom_data)\n",
    "\n",
    "mushroom_data = mushroom_data[mushroom_data[] != '?']\n",
    "print(mushroom_data)"
   ]
  },
  {
   "cell_type": "markdown",
   "metadata": {},
   "source": [
    "Task 2: Great you've got your data. Now, before we can continue we have that pesky problem of non numerical columns. In this case, all features in the dataset are categorical. Let's encode them so our model will understand them.\n"
   ]
  },
  {
   "cell_type": "code",
   "execution_count": null,
   "metadata": {
    "collapsed": true
   },
   "outputs": [],
   "source": [
    "# use sklearns encoding tool to translate the categorical values into meaningful numeric ones\n",
    "encoder_train = preprocessing.LabelEncoder()\n",
    "mushroom_data = mushroom_data.apply(encoder_train.fit_transform)\n",
    "print(mushroom_data)"
   ]
  }
 ],
 "metadata": {
  "kernelspec": {
   "display_name": "Python 3",
   "language": "python",
   "name": "python3"
  },
  "language_info": {
   "codemirror_mode": {
    "name": "ipython",
    "version": 3
   },
   "file_extension": ".py",
   "mimetype": "text/x-python",
   "name": "python",
   "nbconvert_exporter": "python",
   "pygments_lexer": "ipython3",
   "version": "3.5.5"
  }
 },
 "nbformat": 4,
 "nbformat_minor": 1
}
