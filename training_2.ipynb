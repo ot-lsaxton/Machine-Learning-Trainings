{
 "cells": [
  {
   "cell_type": "markdown",
   "metadata": {
    "collapsed": true
   },
   "source": [
    "Welcome to the OT Univeristy Machine Learning, Training #2\n",
    "Last session we explored some of the most common tools of the trade - pandas and sklearn\n",
    "\n",
    "For this trainng, we will build on what we learned. Instead of using sklearn's decision tree classifier, we will use its multi-layer perceptron classifier. \n",
    "\n",
    "As usual we will read in data from a csv, seperate it into training and testing datasets and train our model.\n",
    "\n",
    "For this session we will also explore tuning our classifier and cross validation.\n",
    "\n",
    "Let's get started."
   ]
  },
  {
   "cell_type": "code",
   "execution_count": 1,
   "metadata": {
    "collapsed": true
   },
   "outputs": [],
   "source": [
    "import pandas as pd\n",
    "from sklearn import preprocessing\n",
    "from sklearn.model_selection import train_test_split\n",
    "from sklearn.neural_network import MLPClassifier\n",
    "from sklearn.model_selection import cross_val_score"
   ]
  },
  {
   "cell_type": "markdown",
   "metadata": {},
   "source": [
    "Task 1: Read in the Mushroom csv. Our task is to classify mushrooms as posionous or not. Change the code below to do so."
   ]
  },
  {
   "cell_type": "code",
   "execution_count": 2,
   "metadata": {
    "collapsed": true
   },
   "outputs": [],
   "source": [
    "mushroom_data = pd.some_function_here('Mushrooms.csv')\n",
    "print('Original size of data', mushroom_data.shape)"
   ]
  },
  {
   "cell_type": "markdown",
   "metadata": {},
   "source": [
    "Task 2: Last session we did not worry about missing data. This can lead to poor accuracy in the model. This time lets take the correct measures to handle this. The Mushroom dataset we are using has some missing values. Change the below code to removeall rows with any missing values.\n"
   ]
  },
  {
   "cell_type": "code",
   "execution_count": null,
   "metadata": {},
   "outputs": [],
   "source": [
    "mushroom_data = mushroom_data.some_function_here()\n",
    "print('Size after cleanup', mushroom_data.shape)"
   ]
  },
  {
   "cell_type": "markdown",
   "metadata": {},
   "source": [
    "Task 2: Okay you've got your data and its separated into target class and everything else. Now, before we can continue we have that pesky problem of non numerical columns. In this case, all features in the dataset are categorical. Let's encode them so our model will understand them."
   ]
  },
  {
   "cell_type": "code",
   "execution_count": null,
   "metadata": {},
   "outputs": [],
   "source": [
    "# use sklearns encoding tool to translate the categorical values into meaningful numeric ones\n",
    "encoder_train = preprocessing.LabelEncoder()\n",
    "mushroom_data = mushroom_data.apply(encoder_train.fit_transform)\n",
    "print(mushroom_data)"
   ]
  },
  {
   "cell_type": "markdown",
   "metadata": {},
   "source": [
    "Task 2: Great you have your data and you've removed any rows with missing values. Now we need to separate our data into the target class 'y' and the rest of the data 'x'. y will hold the feature/values we are trying to predict (in this case called 'class' and representing edible or poisonous). x holds all the features/values you use to train the model to predict y. Change the code below to separate your mushroom data."
   ]
  },
  {
   "cell_type": "code",
   "execution_count": 4,
   "metadata": {},
   "outputs": [],
   "source": [
    "# extract the target class values from mushroom_data. Your target class is called 'class'. Creative right?\n",
    "y = mushroom_data['put something in here to get what you want']\n",
    "\n",
    "# now that you have separated the target class into a new variable, a copy remains in the mushroom_data. Remove it so you don't have duplicates\n",
    "x = mushroom_data.some_function_here_to_remove('class', axis=1)"
   ]
  },
  {
   "cell_type": "markdown",
   "metadata": {
    "collapsed": true
   },
   "source": [
    "Task 4: Great you now have x and y parts of the data. Now you need to create a training set and a testing set. The training set holds all the instances of the mushroom data that your model will use to 'learn'. The testing set is what we will use to test the accuracy of your model after it has been trained. Sklearn has a nice function that seperates a dataset into x_train, x_test, y_train, y_test. Find it and change the below code to use it."
   ]
  },
  {
   "cell_type": "code",
   "execution_count": null,
   "metadata": {
    "collapsed": true
   },
   "outputs": [],
   "source": [
    "x_train, x_test, y_train, y_test = some_cool_function_here(x, y, train_size=0.75, test_size=0.25)\n",
    "\n",
    "# you can use this print to inspect your results\n",
    "# print(y_test)\n"
   ]
  },
  {
   "cell_type": "markdown",
   "metadata": {
    "collapsed": true
   },
   "source": [
    "Task 5: Create your Multi-Layer Perceptron Classifier. [Here](http://scikit-learn.org/stable/modules/neural_networks_supervised.html) is a helpful link"
   ]
  },
  {
   "cell_type": "code",
   "execution_count": null,
   "metadata": {
    "collapsed": true
   },
   "outputs": [],
   "source": [
    "mlp = MLPClassifier(solver='lbfgs', alpha=1e-5, hidden_layer_sizes=(5, 2), random_state=1).fit(something_here, something_else_here)\n"
   ]
  },
  {
   "cell_type": "markdown",
   "metadata": {
    "collapsed": true
   },
   "source": [
    "Task 6: Try scoring your model\n"
   ]
  },
  {
   "cell_type": "code",
   "execution_count": null,
   "metadata": {
    "collapsed": true
   },
   "outputs": [],
   "source": [
    "score = mlp.score(something_here, something_else_here)\n",
    "print(score)\n"
   ]
  },
  {
   "cell_type": "markdown",
   "metadata": {
    "collapsed": true
   },
   "source": [
    "Task 7: Let's go one step further and talk about cross validation"
   ]
  },
  {
   "cell_type": "code",
   "execution_count": null,
   "metadata": {
    "collapsed": true
   },
   "outputs": [],
   "source": [
    "scores = cross_val_score(mlp, x_train, y_train, cv=10)\n",
    "print(scores)"
   ]
  }
 ],
 "metadata": {
  "kernelspec": {
   "display_name": "Python 3",
   "language": "python",
   "name": "python3"
  },
  "language_info": {
   "codemirror_mode": {
    "name": "ipython",
    "version": 3
   },
   "file_extension": ".py",
   "mimetype": "text/x-python",
   "name": "python",
   "nbconvert_exporter": "python",
   "pygments_lexer": "ipython3",
   "version": "3.5.5"
  }
 },
 "nbformat": 4,
 "nbformat_minor": 1
}
